{
 "cells": [
  {
   "cell_type": "code",
   "execution_count": 9,
   "id": "advance-montana",
   "metadata": {},
   "outputs": [],
   "source": [
    "import numpy as np\n",
    "import matplotlib.pyplot as plt\n",
    "import math"
   ]
  },
  {
   "cell_type": "code",
   "execution_count": 1,
   "id": "incorporated-roommate",
   "metadata": {},
   "outputs": [],
   "source": [
    "def f(t,x) : return -(0.002)*x-50000*t #i have to put my funtion here !!! (the fixed one)"
   ]
  },
  {
   "cell_type": "code",
   "execution_count": 5,
   "id": "pregnant-comparative",
   "metadata": {},
   "outputs": [
    {
     "name": "stdout",
     "output_type": "stream",
     "text": [
      "9720160.0\n"
     ]
    }
   ],
   "source": [
    "'''here if i have a defiration equation i simply set it as f(y) na dcontinue my proccess from there '''\n",
    "''' y'=y+k ,   i name f(t,y) =y'= y+k and now I calculate my y throughout this procces :'''\n",
    "'''\n",
    "f(t,y)= y +k \n",
    "so \n",
    "my new  \n",
    "y (n+1) = y(n) + h f(t(n),Y(n))  \n",
    "with y(0) = c\n",
    "and \n",
    "h = dt = my step    '''\n",
    "#lets say i have a space for (0,3) i can brake this space into 3 smallers spaces with 3 stpes of 1 sec so :\n",
    "a,b = 0,3\n",
    "y = 10000000\n",
    "h = 2\n",
    "N = 2 # 3 total steps i want to calculate \n",
    "for i in range(N) : \n",
    "    \n",
    "    y = y + h*f(a,y)\n",
    "    a=a+h\n",
    "    \n",
    "print(y)"
   ]
  },
  {
   "cell_type": "code",
   "execution_count": null,
   "id": "configured-petroleum",
   "metadata": {},
   "outputs": [],
   "source": []
  },
  {
   "cell_type": "code",
   "execution_count": null,
   "id": "understood-kitchen",
   "metadata": {},
   "outputs": [],
   "source": []
  },
  {
   "cell_type": "code",
   "execution_count": null,
   "id": "weird-voice",
   "metadata": {},
   "outputs": [],
   "source": []
  }
 ],
 "metadata": {
  "kernelspec": {
   "display_name": "Python 3",
   "language": "python",
   "name": "python3"
  },
  "language_info": {
   "codemirror_mode": {
    "name": "ipython",
    "version": 3
   },
   "file_extension": ".py",
   "mimetype": "text/x-python",
   "name": "python",
   "nbconvert_exporter": "python",
   "pygments_lexer": "ipython3",
   "version": "3.9.1"
  }
 },
 "nbformat": 4,
 "nbformat_minor": 5
}
