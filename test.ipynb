{
 "cells": [
  {
   "cell_type": "code",
   "execution_count": 4,
   "metadata": {},
   "outputs": [
    {
     "name": "stdout",
     "output_type": "stream",
     "text": [
      "The solution in the space [2,4] from Bisection method is r1=  2.743682861328125\n",
      "With it's value f(r1)=  -2.3836110015995615e-05\n",
      "The solution in [2,4] from Newton-Raphson method is r2=  2.7437072699922695\n",
      "With it's value f(r2)=  1.1102230246251565e-16\n",
      "The f(r2)= 1.1102230246251565e-16 is closer to 0 \n",
      " So the colcution we come is that Newton-Raphson method is more accurate than the Bisection method at least in this particular problem.\n",
      " With class difference of  4.657735779370556e-12\n"
     ]
    },
    {
     "data": {
      "text/plain": [
       "<function matplotlib.pyplot.show(*args, **kw)>"
      ]
     },
     "execution_count": 4,
     "metadata": {},
     "output_type": "execute_result"
    },
    {
     "data": {
      "image/png": "[encoded data removed]",
      "text/plain": [
       "<Figure size 432x288 with 1 Axes>"
      ]
     },
     "metadata": {
      "needs_background": "light"
     },
     "output_type": "display_data"
    }
   ],
   "source": [
    "import numpy as np\n",
    "import math\n",
    "import matplotlib.pyplot as plt\n",
    "\n",
    "def f(x): return math.tan(x)-(x/(1-x**2))\n",
    "def df(x): return (1/(math.cos(x)))**2-(1+x**2)/((1-x**2)**2)\n",
    "\n",
    "'''//  A) 1)with Bisection Method.'''\n",
    "\n",
    "a=2\n",
    "b=4\n",
    "i=0\n",
    "r=0\n",
    "fr1x=[]\n",
    "while(i<15):\n",
    "    c=(a+b)/2\n",
    "    if f(a)*f(c)<0 :\n",
    "        b=c\n",
    "    if f(c)*f(b)<0 :\n",
    "        a=c\n",
    "    fr1x+=[f(c)]\n",
    "    if i==14: r1=(b+a)/2\n",
    "    i+=1\n",
    "fr1=f(r1)\n",
    "print('The solution in the space [2,4] from Bisection method is r1= ' , r1)\n",
    "print('With it\\'s value f(r1)= ', fr1)\n",
    "\n",
    "''' // 2)With Newton-Raphson'''\n",
    "\n",
    "x=3.0\n",
    "i=1\n",
    "fr2x=[]\n",
    "while i<7:\n",
    "    x=x-f(x)/df(x)\n",
    "    fr2x+=[f(x)]\n",
    "    if i==5:\n",
    "        r2=x\n",
    "        break\n",
    "        \n",
    "    i+=1\n",
    "fr2=f(r2)\n",
    "print('The solution in [2,4] from Newton-Raphson method is r2= ' , r2)\n",
    "print('With it\\'s value f(r2)= ', fr2)\n",
    "\n",
    "if math.fabs(fr1) < math.fabs(fr2):\n",
    "    Δf=math.fabs(fr1/fr2)\n",
    "    print('The f(r1)=',fr1,'is closer to 0\\nSo the colcution we come is that Bisection method is more accurate than the Newton-Raphson method at least in this particular problem.\\n With class difference of ',Δf)\n",
    "elif math.fabs(fr1) > math.fabs(fr2):\n",
    "    Δf=math.fabs(fr2/fr1)\n",
    "    print('The f(r2)=',fr2,'is closer to 0 \\n So the colcution we come is that Newton-Raphson method is more accurate than the Bisection method at least in this particular problem.\\n With class difference of ',Δf)\n",
    "else:\n",
    "    print('Both values are equal\\n So either method in this problem will get close to 0 as mutch as either of it can ')\n",
    "\n",
    "plt.title('compare how fast we aprroce 0 ')\n",
    "plt.plot(fr1x)+plt.plot(fr2x)\n",
    "plt.xlabel('x')\n",
    "plt.ylabel('f(x)')\n",
    "plt.show"
   ]
  }
 ],
 "metadata": {
  "kernelspec": {
   "display_name": "Python 3",
   "language": "python",
   "name": "python3"
  },
  "language_info": {
   "codemirror_mode": {
    "name": "ipython",
    "version": 3
   },
   "file_extension": ".py",
   "mimetype": "text/x-python",
   "name": "python",
   "nbconvert_exporter": "python",
   "pygments_lexer": "ipython3",
   "version": "3.8.3"
  }
 },
 "nbformat": 4,
 "nbformat_minor": 4
}
