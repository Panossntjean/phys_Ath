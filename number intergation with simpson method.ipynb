{
 "cells": [
  {
   "cell_type": "code",
   "execution_count": 37,
   "id": "passing-lawrence",
   "metadata": {},
   "outputs": [],
   "source": [
    "import numpy as np\n",
    "import matplotlib.pyplot as plt\n",
    "import math"
   ]
  },
  {
   "cell_type": "code",
   "execution_count": 38,
   "id": "unlike-celtic",
   "metadata": {},
   "outputs": [],
   "source": [
    "def f(x): return np.exp(x) # specify our function"
   ]
  },
  {
   "cell_type": "code",
   "execution_count": 40,
   "id": "confused-fruit",
   "metadata": {},
   "outputs": [
    {
     "name": "stdout",
     "output_type": "stream",
     "text": [
      "37701.86405202837 -5153.234691061687\n"
     ]
    }
   ],
   "source": [
    "'''here we have a f(x) in (a,b) and we are looking for it's intergal  '''\n",
    "#so\n",
    "a,b  = 0,10\n",
    "x0 = a\n",
    "x2 = b\n",
    "h  = (b-a)/2\n",
    "x1 = x0 + h\n",
    "I  = (h/3)*(f(x0)+4*f(x1)+f(x2))\n",
    "\n",
    "#E = - ((h**5)/90)*f(?)\n",
    "\n",
    "print(I,E)"
   ]
  },
  {
   "cell_type": "code",
   "execution_count": null,
   "id": "scenic-restaurant",
   "metadata": {},
   "outputs": [],
   "source": []
  }
 ],
 "metadata": {
  "kernelspec": {
   "display_name": "Python 3",
   "language": "python",
   "name": "python3"
  },
  "language_info": {
   "codemirror_mode": {
    "name": "ipython",
    "version": 3
   },
   "file_extension": ".py",
   "mimetype": "text/x-python",
   "name": "python",
   "nbconvert_exporter": "python",
   "pygments_lexer": "ipython3",
   "version": "3.9.1"
  }
 },
 "nbformat": 4,
 "nbformat_minor": 5
}
