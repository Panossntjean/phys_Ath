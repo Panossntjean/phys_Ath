{
 "cells": [
  {
   "cell_type": "code",
   "execution_count": 18,
   "metadata": {},
   "outputs": [],
   "source": [
    "#monte carlo simuation - the idea of every random numbers-using programe is monte carlo method\n",
    "#poisson katanomi \n",
    "\n",
    "\n",
    "import numpy as np\n",
    "import matplotlib.pyplot as plt"
   ]
  },
  {
   "cell_type": "code",
   "execution_count": 30,
   "metadata": {},
   "outputs": [],
   "source": [
    "def pdecay():\n",
    "    res = False\n",
    "    u = np.random.rand() #u ~ 0,1\n",
    "    if u < 0.001: res = True\n",
    "    return res\n",
    "    \n",
    "N = 30000\n",
    "nc= [N] # kata kapoio tropo einai to N(t)\n",
    "ΔN=[] #posoi diaspastikan kathe dt\n",
    "while(N>0):\n",
    "    ndecays = 0\n",
    "    for i in range(N):\n",
    "        if pdecay(): ndecays +=1\n",
    "    N = N - ndecays\n",
    "    ΔN += [ndecays]\n",
    "    nc += [N]\n",
    "\n"
   ]
  },
  {
   "cell_type": "code",
   "execution_count": 42,
   "metadata": {},
   "outputs": [
    {
     "data": {
      "text/plain": [
       "[<matplotlib.lines.Line2D at 0x2769f6bc940>]"
      ]
     },
     "execution_count": 42,
     "metadata": {},
     "output_type": "execute_result"
    },
    {
     "data": {
      "image/png": "[encoded data removed]",
      "text/plain": [
       "<Figure size 432x288 with 1 Axes>"
      ]
     },
     "metadata": {
      "needs_background": "light"
     },
     "output_type": "display_data"
    }
   ],
   "source": [
    "#ΔN[1:10]\n",
    "#plt.hist(ΔN[1:300])\n",
    "plt.plot(nc)   #otan to N>> tote plisiazw sthn poisson katanomi alla kai pali sto paradeigma me tous purines pote den tha exw bhma 0.5 panta tha exw akaireo bhma dld 1 purina pote den diaspate misos .\n",
    "#plt.hist(ΔN[2000:3000])"
   ]
  },
  {
   "cell_type": "code",
   "execution_count": null,
   "metadata": {},
   "outputs": [],
   "source": []
  }
 ],
 "metadata": {
  "kernelspec": {
   "display_name": "Python 3",
   "language": "python",
   "name": "python3"
  },
  "language_info": {
   "codemirror_mode": {
    "name": "ipython",
    "version": 3
   },
   "file_extension": ".py",
   "mimetype": "text/x-python",
   "name": "python",
   "nbconvert_exporter": "python",
   "pygments_lexer": "ipython3",
   "version": "3.8.3"
  }
 },
 "nbformat": 4,
 "nbformat_minor": 4
}
