{
 "cells": [
  {
   "cell_type": "code",
   "execution_count": 1,
   "metadata": {},
   "outputs": [],
   "source": [
    "import numpy as np\n",
    "import matplotlib.pyplot as plt"
   ]
  },
  {
   "cell_type": "code",
   "execution_count": 20,
   "metadata": {},
   "outputs": [],
   "source": [
    "def Uniform(a,b):\n",
    "    '''uniform random number generators in [0,10]'''\n",
    "    U = np.random.rand() # U ~ uniform[0,1]\n",
    "    res = (b-a)*U + a\n",
    "    return res\n",
    "def f(x): return np.exp(x)"
   ]
  },
  {
   "cell_type": "code",
   "execution_count": 1,
   "metadata": {},
   "outputs": [
    {
     "ename": "NameError",
     "evalue": "name 'Uniform' is not defined",
     "output_type": "error",
     "traceback": [
      "\u001b[1;31m---------------------------------------------------------------------------\u001b[0m",
      "\u001b[1;31mNameError\u001b[0m                                 Traceback (most recent call last)",
      "\u001b[1;32m<ipython-input-1-8a5e81f02099>\u001b[0m in \u001b[0;36m<module>\u001b[1;34m\u001b[0m\n\u001b[0;32m      5\u001b[0m \u001b[1;33m\u001b[0m\u001b[0m\n\u001b[0;32m      6\u001b[0m \u001b[1;32mfor\u001b[0m \u001b[0mi\u001b[0m \u001b[1;32min\u001b[0m \u001b[0mrange\u001b[0m\u001b[1;33m(\u001b[0m\u001b[0mn\u001b[0m\u001b[1;33m)\u001b[0m\u001b[1;33m:\u001b[0m\u001b[1;33m\u001b[0m\u001b[1;33m\u001b[0m\u001b[0m\n\u001b[1;32m----> 7\u001b[1;33m     \u001b[0mx\u001b[0m \u001b[1;33m=\u001b[0m \u001b[0mUniform\u001b[0m\u001b[1;33m(\u001b[0m\u001b[0ma\u001b[0m\u001b[1;33m,\u001b[0m\u001b[0mb\u001b[0m\u001b[1;33m-\u001b[0m\u001b[1;36m5\u001b[0m\u001b[1;33m)\u001b[0m\u001b[1;33m\u001b[0m\u001b[1;33m\u001b[0m\u001b[0m\n\u001b[0m\u001b[0;32m      8\u001b[0m     \u001b[0my\u001b[0m \u001b[1;33m=\u001b[0m \u001b[0mf\u001b[0m\u001b[1;33m(\u001b[0m\u001b[0mx\u001b[0m\u001b[1;33m)\u001b[0m\u001b[1;33m\u001b[0m\u001b[1;33m\u001b[0m\u001b[0m\n\u001b[0;32m      9\u001b[0m     \u001b[0mΣf\u001b[0m \u001b[1;33m+=\u001b[0m \u001b[0my\u001b[0m\u001b[1;33m\u001b[0m\u001b[1;33m\u001b[0m\u001b[0m\n",
      "\u001b[1;31mNameError\u001b[0m: name 'Uniform' is not defined"
     ]
    }
   ],
   "source": [
    "Σf  = 0\n",
    "Σf2 = 0\n",
    "n   = 10000\n",
    "a,b = 0,10\n",
    "\n",
    "for i in range(n):\n",
    "    x = Uniform(a,b-5)\n",
    "    y = f(x)\n",
    "    Σf += y\n",
    "    Σf2 += y*y\n",
    "    \n",
    "    \n",
    "for i in range(n):\n",
    "    x = Uniform(a+5,b)\n",
    "    y = f(x)\n",
    "    Σf += y\n",
    "    Σf2 += y*y\n",
    "\n",
    "'''BE CAREFULL IF YOU CUT THE SPACE IN 2 PHASES OR MORE YOU NEED TO CALCULATE THE INTERGAL FOR ITCH METHOD'''\n",
    "'''   SO NOW WE HAVE 2 FIELDS (a,c) and (c,b) with a<c<b so we need to calculate 2 diferently intergals in it's own field!'''\n",
    "'''     and doing it we will have I1 and I2 so the total is Itotal = I1 + I2 !!!'''\n",
    "'''     and it's CAREFULL δI = [(δI1)^2+(δI2)^2]^0.5 so i have to clculate also 2 δI for each inbtergal !!!!! '''\n",
    "    \n",
    "\n",
    "'''the following will calculate wrong results !!!! i need to corent my code here and do it for it's intergal individually '''\n",
    "V1   = b - a\n",
    "μf  = Σf/n\n",
    "σf2 =(n/(n-1))*((Σf2/n) - μf*μf)\n",
    "σf  = σf2**0.5\n",
    "\n",
    "\n",
    "\n",
    "I  = V*μf\n",
    "δI = (V*σf)/n**0.5\n",
    "print( 'I=%3.2lf +/- %3.2lf'%(I,δI))\n",
    "Iexact = f(10) - f(0)\n",
    "print( 'Iexact= %3.2lf'%(Iexact))"
   ]
  },
  {
   "cell_type": "code",
   "execution_count": 25,
   "metadata": {},
   "outputs": [
    {
     "name": "stdout",
     "output_type": "stream",
     "text": [
      "I=24103.43 +/- 1512.07\n",
      "Iexact= 22025.47\n"
     ]
    }
   ],
   "source": [
    "Σf  = 0\n",
    "Σf2 = 0\n",
    "n   = 1000\n",
    "a,b = 0,10\n",
    "\n",
    "for i in range(n):\n",
    "    x = Uniform(0,10)\n",
    "    y = f(x)\n",
    "    Σf += y\n",
    "    Σf2 += y*y\n",
    "\n",
    "V   = b - a\n",
    "μf  = Σf/n\n",
    "σf2 =(n/(n-1))*((Σf2/n) - μf*μf)\n",
    "σf  = σf2**0.5\n",
    "\n",
    "I  = V*μf\n",
    "δI = (V*σf)/n**0.5\n",
    "print( 'I=%3.2lf +/- %3.2lf'%(I,δI))\n",
    "Iexact = f(10) - f(0)\n",
    "print( 'Iexact= %3.2lf'%(Iexact))"
   ]
  },
  {
   "cell_type": "code",
   "execution_count": 26,
   "metadata": {},
   "outputs": [
    {
     "name": "stdout",
     "output_type": "stream",
     "text": [
      "7.7858400653768705\n"
     ]
    }
   ],
   "source": [
    "print(x)"
   ]
  },
  {
   "cell_type": "code",
   "execution_count": null,
   "metadata": {},
   "outputs": [],
   "source": []
  }
 ],
 "metadata": {
  "kernelspec": {
   "display_name": "Python 3",
   "language": "python",
   "name": "python3"
  },
  "language_info": {
   "codemirror_mode": {
    "name": "ipython",
    "version": 3
   },
   "file_extension": ".py",
   "mimetype": "text/x-python",
   "name": "python",
   "nbconvert_exporter": "python",
   "pygments_lexer": "ipython3",
   "version": "3.9.1"
  }
 },
 "nbformat": 4,
 "nbformat_minor": 4
}
