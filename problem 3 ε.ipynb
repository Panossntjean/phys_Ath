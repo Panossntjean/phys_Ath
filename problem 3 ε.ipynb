{
 "cells": [
  {
   "cell_type": "code",
   "execution_count": 3,
   "metadata": {},
   "outputs": [
    {
     "name": "stdout",
     "output_type": "stream",
     "text": [
      "I=27280.41 +/- 2192.29\n",
      "σχετικο σφαλμα δΙ/Ι =  0.08036135078633752\n",
      "Iexact= 22025.47\n",
      "θεωριτικο σχετικο σφαλμα δΙ/Ι =  0.19262700219303588\n"
     ]
    }
   ],
   "source": [
    "import numpy as np\n",
    "import matplotlib.pyplot as plt\n",
    "\n",
    "def randomlife(a,b):\n",
    "    R = np.random.rand()\n",
    "    res = (b-a)*R + a\n",
    "    return res\n",
    "def f(x): return np.exp(x)\n",
    "\n",
    "z=[]\n",
    "fmin=1\n",
    "fmax=f(10)\n",
    "Σf  = 0\n",
    "Σf2 = 0\n",
    "n   = 1000\n",
    "a,b = 0,10\n",
    "k=0\n",
    "for i in range(n):\n",
    "    x = randomlife(a,b)\n",
    "    y = randomlife(fmin,fmax)\n",
    "    if (y<f(x)):\n",
    "        Σf  += y\n",
    "        Σf2 += y*y\n",
    "        k += 1\n",
    "        \n",
    "V   = (b-a)/2\n",
    "μf  = Σf/k\n",
    "σf2 =(k/(k-1))*((Σf2/k) - μf*μf)\n",
    "σf  = σf2**0.5\n",
    "\n",
    "I  = V*μf\n",
    "δI = (V*σf)/k**0.5\n",
    "print( 'I=%3.2lf +/- %3.2lf'%(I,δI))\n",
    "\n",
    "σχ = δI/I\n",
    "print(\"σχετικο σφαλμα δΙ/Ι = \", σχ)\n",
    "\n",
    "\n",
    "Iexact = f(10)-f(0)\n",
    "print( 'Iexact= %3.2lf'%(Iexact))\n",
    "\n",
    "σθεωρ = abs(I-Iexact)/I\n",
    "print(\"θεωριτικο σχετικο σφαλμα δΙ/Ι = \", σθεωρ)\n",
    "\n"
   ]
  },
  {
   "cell_type": "code",
   "execution_count": 4,
   "metadata": {},
   "outputs": [
    {
     "data": {
      "text/plain": [
       "<function matplotlib.pyplot.show(*args, **kw)>"
      ]
     },
     "execution_count": 4,
     "metadata": {},
     "output_type": "execute_result"
    },
    {
     "data": {
      "image/png": "[encoded data removed]",
      "text/plain": [
       "<Figure size 432x288 with 1 Axes>"
      ]
     },
     "metadata": {
      "needs_background": "light"
     },
     "output_type": "display_data"
    }
   ],
   "source": [
    "I=[]\n",
    "fmin=1\n",
    "fmax=f(10)\n",
    "\n",
    "N   = 40000\n",
    "n   = 1000\n",
    "a,b = 0,10\n",
    "V   = (b-a)/2\n",
    "for j in range(N):\n",
    "    k=0\n",
    "    Σf  = 0\n",
    "    Σf2 = 0\n",
    "    for i in range(n):\n",
    "        x = randomlife(a,b)\n",
    "        y = randomlife(fmin,fmax)\n",
    "        if (y<f(x)):\n",
    "            Σf  += y\n",
    "            Σf2 += y*y\n",
    "            k += 1\n",
    "    μf  = Σf/k\n",
    "    σf2 =(k/(k-1))*((Σf2/k) - μf*μf)\n",
    "    σf = σf2**0.5\n",
    "    I  += [V*μf]\n",
    "    δI += (V*σf)/k**0.5\n",
    "\n",
    "plt.hist(I,bins=40,ec='black')\n",
    "plt.show"
   ]
  },
  {
   "cell_type": "code",
   "execution_count": null,
   "metadata": {},
   "outputs": [],
   "source": []
  }
 ],
 "metadata": {
  "kernelspec": {
   "display_name": "Python 3",
   "language": "python",
   "name": "python3"
  },
  "language_info": {
   "codemirror_mode": {
    "name": "ipython",
    "version": 3
   },
   "file_extension": ".py",
   "mimetype": "text/x-python",
   "name": "python",
   "nbconvert_exporter": "python",
   "pygments_lexer": "ipython3",
   "version": "3.8.3"
  }
 },
 "nbformat": 4,
 "nbformat_minor": 4
}
