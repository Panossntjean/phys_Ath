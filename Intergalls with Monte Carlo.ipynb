{
 "cells": [
  {
   "cell_type": "code",
   "execution_count": 2,
   "metadata": {},
   "outputs": [],
   "source": [
    "import numpy as np\n",
    "import matplotlib.pyplot as plt"
   ]
  },
  {
   "cell_type": "code",
   "execution_count": 37,
   "metadata": {},
   "outputs": [],
   "source": [
    "\n",
    "def f(x): return x**0.5"
   ]
  },
  {
   "cell_type": "code",
   "execution_count": null,
   "metadata": {},
   "outputs": [],
   "source": []
  },
  {
   "cell_type": "code",
   "execution_count": 38,
   "metadata": {},
   "outputs": [
    {
     "name": "stdout",
     "output_type": "stream",
     "text": [
      "I=866.67 +/- 88.19\n"
     ]
    }
   ],
   "source": [
    "Σf  = 0\n",
    "Σf2 = 0\n",
    "n   = 3\n",
    "a,b = 1,101\n",
    "u1 = 0.48\n",
    "u2 = 0.80\n",
    "u3 = 0.99\n",
    "x1 =  (b-a)*u1+a \n",
    "x2 =  (b-a)*u2+a \n",
    "x3 =  (b-a)*u3+a \n",
    "y1=f(x1)\n",
    "y2=f(x2)\n",
    "y3=f(x3)\n",
    "Σf = y1+y2+y3\n",
    "Σf2 = y1*y1+y2*y2+y3*y3\n",
    "\n",
    "    \n",
    "V   = b - a\n",
    "μf  = Σf/n\n",
    "σf2 =(n/(n-1))*((Σf2/n) - μf*μf)\n",
    "σf  = σf2**0.5\n",
    "\n",
    "I  = V*μf\n",
    "δI = (V*σf)/(n**0.5)\n",
    "print( 'I=%3.2lf +/- %3.2lf'%(I,δI))\n"
   ]
  },
  {
   "cell_type": "code",
   "execution_count": 39,
   "metadata": {},
   "outputs": [
    {
     "name": "stdout",
     "output_type": "stream",
     "text": [
      "I= 866.67 +/- 88.19\n"
     ]
    }
   ],
   "source": [
    "print( 'I= %3.2lf +/- %3.2lf'%(I,δI))"
   ]
  },
  {
   "cell_type": "code",
   "execution_count": 40,
   "metadata": {},
   "outputs": [
    {
     "name": "stdout",
     "output_type": "stream",
     "text": [
      "0.10175966581017709\n"
     ]
    }
   ],
   "source": [
    "print(δI/I)"
   ]
  },
  {
   "cell_type": "code",
   "execution_count": 33,
   "metadata": {},
   "outputs": [],
   "source": [
    "'''h synartisi gia kathe ean einai diaforetiki !p(x)*x^2! '''\n",
    "def f2(x): return np.exp(2*x)*(x**2)"
   ]
  },
  {
   "cell_type": "code",
   "execution_count": 34,
   "metadata": {},
   "outputs": [
    {
     "name": "stdout",
     "output_type": "stream",
     "text": [
      "2.1870492532900436\n"
     ]
    }
   ],
   "source": [
    "'''xwriste to xwro se 3 ashmeia (2 diasthma (a,b)kai (b,c) kai kante ayto )'''\n",
    "a=0\n",
    "b=0.5\n",
    "c=1\n",
    "Itrap=(b-a)/2*(f2(a)+f2(b)) + (c-b)/2*(f2(b)+f2(c))\n",
    "print(Itrap)"
   ]
  },
  {
   "cell_type": "code",
   "execution_count": null,
   "metadata": {},
   "outputs": [],
   "source": []
  },
  {
   "cell_type": "code",
   "execution_count": null,
   "metadata": {},
   "outputs": [],
   "source": []
  }
 ],
 "metadata": {
  "kernelspec": {
   "display_name": "Python 3",
   "language": "python",
   "name": "python3"
  },
  "language_info": {
   "codemirror_mode": {
    "name": "ipython",
    "version": 3
   },
   "file_extension": ".py",
   "mimetype": "text/x-python",
   "name": "python",
   "nbconvert_exporter": "python",
   "pygments_lexer": "ipython3",
   "version": "3.9.1"
  }
 },
 "nbformat": 4,
 "nbformat_minor": 4
}
