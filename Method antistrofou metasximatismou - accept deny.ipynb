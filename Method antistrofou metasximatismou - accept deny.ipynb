{
 "cells": [
  {
   "cell_type": "code",
   "execution_count": 1,
   "id": "promotional-search",
   "metadata": {},
   "outputs": [],
   "source": [
    "import numpy as np \n",
    "import matplotlib.pyplot as plt\n",
    "def U()     : return np.random.rand()"
   ]
  },
  {
   "cell_type": "code",
   "execution_count": 2,
   "id": "complex-highlight",
   "metadata": {},
   "outputs": [],
   "source": [
    "def Finv(x) : return np.log((np.exp(5)-1)*x+1)  #methodos antistrofou metasximatismou \n",
    "def f(x)    : return np.exp(x)/(np.exp(5)-1)"
   ]
  },
  {
   "cell_type": "code",
   "execution_count": 8,
   "id": "viral-typing",
   "metadata": {},
   "outputs": [
    {
     "name": "stdout",
     "output_type": "stream",
     "text": [
      "accepted x= 19938\n"
     ]
    },
    {
     "data": {
      "image/png": "[encoded data removed]",
      "text/plain": [
       "<Figure size 432x288 with 1 Axes>"
      ]
     },
     "metadata": {
      "needs_background": "light"
     },
     "output_type": "display_data"
    }
   ],
   "source": [
    "Finv(U())\n",
    "\n",
    "xArray = [Finv(U()) for i in range(0,10000)]\n",
    "\n",
    "#plt.hist(xArray,bins=50)\n",
    "\n",
    "\n",
    "\n",
    "N=100000  #100 gia to scarter , 100000 gia to hist\n",
    "x2Array = []\n",
    "xcoord=[]\n",
    "ycoord=[]\n",
    "for i in range(N):\n",
    "    x = 5*U()\n",
    "    y = f(5)*U()\n",
    "    xcoord += [x]\n",
    "    ycoord += [y]\n",
    "    if y < f(x) : \n",
    "        x2Array += [x]\n",
    "        \n",
    "\n",
    "print(\"accepted x=\", len(x2Array))\n",
    "\n",
    "plt.hist(x2Array,bins=50)\n",
    "plt.show()\n",
    "#plt.scatter(xcoord,ycoord)"
   ]
  }
 ],
 "metadata": {
  "kernelspec": {
   "display_name": "Python 3",
   "language": "python",
   "name": "python3"
  },
  "language_info": {
   "codemirror_mode": {
    "name": "ipython",
    "version": 3
   },
   "file_extension": ".py",
   "mimetype": "text/x-python",
   "name": "python",
   "nbconvert_exporter": "python",
   "pygments_lexer": "ipython3",
   "version": "3.9.1"
  }
 },
 "nbformat": 4,
 "nbformat_minor": 5
}
