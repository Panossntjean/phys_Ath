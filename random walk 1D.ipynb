{
 "cells": [
  {
   "cell_type": "code",
   "execution_count": 94,
   "metadata": {},
   "outputs": [],
   "source": [
    "import numpy as np\n",
    "import matplotlib.pyplot as plt"
   ]
  },
  {
   "cell_type": "code",
   "execution_count": 95,
   "metadata": {},
   "outputs": [],
   "source": [
    "def step():\n",
    "    l = 1\n",
    "    if np.random.rand() < 0.5 : l = -1\n",
    "    return l"
   ]
  },
  {
   "cell_type": "code",
   "execution_count": 96,
   "metadata": {},
   "outputs": [
    {
     "data": {
      "image/png": "[encoded data removed]",
      "text/plain": [
       "<Figure size 432x288 with 1 Axes>"
      ]
     },
     "metadata": {
      "needs_background": "light"
     },
     "output_type": "display_data"
    }
   ],
   "source": [
    "# path for 1 particle\n",
    "N =2000 # number of steps\n",
    "path = [] # x coordinate for given N\n",
    "x = 0\n",
    "path += [x]\n",
    "for n in range(N):\n",
    "    x += step()\n",
    "    path += [x]\n",
    "\n",
    "plt.plot(path)\n",
    "plt.show()"
   ]
  },
  {
   "cell_type": "code",
   "execution_count": 97,
   "metadata": {},
   "outputs": [],
   "source": [
    "#distribution for M=1000 particles N=200 steps\n",
    "M = 1000\n",
    "N = 200\n",
    "xArray = [] # 1 x 1000  , teliki thesi kathe particle \n",
    "for m in range (M):\n",
    "    x=0\n",
    "    for n in range(N):\n",
    "        x+=step()\n",
    "        \n",
    "    xArray += [x]\n",
    "    "
   ]
  },
  {
   "cell_type": "code",
   "execution_count": 98,
   "metadata": {},
   "outputs": [
    {
     "data": {
      "text/plain": [
       "(array([ 0.,  0.,  0.,  0.,  0.,  0.,  0.,  0.,  0.,  0.,  0.,  0.,  0.,\n",
       "         0.,  0.,  0.,  0.,  0.,  0.,  0.,  2.,  0.,  2.,  0.,  2.,  0.,\n",
       "         5.,  0.,  5.,  0.,  6.,  0.,  9.,  0., 16.,  0., 13.,  0., 15.,\n",
       "         0., 14.,  0., 28.,  0., 23.,  0., 35.,  0., 40.,  0., 46.,  0.,\n",
       "        58.,  0., 48.,  0., 47.,  0., 66.,  0., 50.,  0., 54.,  0., 53.,\n",
       "         0., 49.,  0., 54.,  0., 44.,  0., 32.,  0., 32.,  0., 43.,  0.,\n",
       "        15.,  0., 17.,  0., 17.,  0., 18.,  0., 17.,  0.,  8.,  0.,  1.,\n",
       "         0.,  3.,  0.,  4.,  0.,  6.,  0.,  1.,  0.,  0.,  0.,  0.,  0.,\n",
       "         0.,  0.,  1.,  0.,  1.,  0.,  0.,  0.,  0.,  0.,  0.,  0.,  0.,\n",
       "         0.,  0.,  0.]),\n",
       " array([-60, -59, -58, -57, -56, -55, -54, -53, -52, -51, -50, -49, -48,\n",
       "        -47, -46, -45, -44, -43, -42, -41, -40, -39, -38, -37, -36, -35,\n",
       "        -34, -33, -32, -31, -30, -29, -28, -27, -26, -25, -24, -23, -22,\n",
       "        -21, -20, -19, -18, -17, -16, -15, -14, -13, -12, -11, -10,  -9,\n",
       "         -8,  -7,  -6,  -5,  -4,  -3,  -2,  -1,   0,   1,   2,   3,   4,\n",
       "          5,   6,   7,   8,   9,  10,  11,  12,  13,  14,  15,  16,  17,\n",
       "         18,  19,  20,  21,  22,  23,  24,  25,  26,  27,  28,  29,  30,\n",
       "         31,  32,  33,  34,  35,  36,  37,  38,  39,  40,  41,  42,  43,\n",
       "         44,  45,  46,  47,  48,  49,  50,  51,  52,  53,  54,  55,  56,\n",
       "         57,  58,  59,  60]),\n",
       " <a list of 120 Patch objects>)"
      ]
     },
     "execution_count": 98,
     "metadata": {},
     "output_type": "execute_result"
    },
    {
     "data": {
      "image/png": "[encoded data removed]",
      "text/plain": [
       "<Figure size 432x288 with 1 Axes>"
      ]
     },
     "metadata": {
      "needs_background": "light"
     },
     "output_type": "display_data"
    }
   ],
   "source": [
    "plt.hist(xArray, bins = range(-60,61))   #auto einai dld to m pou peronoyme  kai einai tosa ta 0 epeidh <m>=0\n",
    "#plt.show()"
   ]
  },
  {
   "cell_type": "code",
   "execution_count": 99,
   "metadata": {},
   "outputs": [
    {
     "name": "stdout",
     "output_type": "stream",
     "text": [
      "mean= -0.004 std= 14.306082063234504 sqrt(N)= 14.142135623730951\n"
     ]
    }
   ],
   "source": [
    "xArray = np.array(xArray)\n",
    "print(\"mean=\",xArray.mean(), 'std=', xArray.std(),'sqrt(N)=',N**0.5)"
   ]
  },
  {
   "cell_type": "code",
   "execution_count": 104,
   "metadata": {},
   "outputs": [
    {
     "data": {
      "text/plain": [
       "14.306082063234504"
      ]
     },
     "execution_count": 104,
     "metadata": {},
     "output_type": "execute_result"
    }
   ],
   "source": [
    "#xArray.var() #??  #var= σ^2\n",
    "np.sqrt(xArray.var()) #= std = σ  'διασπορα' ?"
   ]
  }
 ],
 "metadata": {
  "kernelspec": {
   "display_name": "Python 3",
   "language": "python",
   "name": "python3"
  },
  "language_info": {
   "codemirror_mode": {
    "name": "ipython",
    "version": 3
   },
   "file_extension": ".py",
   "mimetype": "text/x-python",
   "name": "python",
   "nbconvert_exporter": "python",
   "pygments_lexer": "ipython3",
   "version": "3.9.1"
  }
 },
 "nbformat": 4,
 "nbformat_minor": 4
}
