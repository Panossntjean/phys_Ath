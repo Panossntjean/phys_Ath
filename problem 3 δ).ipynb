{
 "cells": [
  {
   "cell_type": "code",
   "execution_count": 226,
   "metadata": {},
   "outputs": [
    {
     "name": "stdout",
     "output_type": "stream",
     "text": [
      "I_total= 21838.55 +- 1178.38 \n"
     ]
    }
   ],
   "source": [
    "import numpy as np\n",
    "import matplotlib.pyplot as plt\n",
    "\n",
    "def randomlife(a,b):\n",
    "    R = np.random.rand()\n",
    "    res = (b-a)*R + a\n",
    "    return res\n",
    "def f(x): return np.exp(x)\n",
    "\n",
    "'''Lets separate the calculation into 2 parts'''\n",
    "'''Two parts are I1 intergration from 0 to 5 and the second one I2 from 5 to 10'''\n",
    "'''Each of one will be created from 500 random numbers'''\n",
    "Σf  = 0\n",
    "Σf2 = 0\n",
    "n   = 500\n",
    "a   = 0\n",
    "b   = 5    \n",
    "I2   = []\n",
    "δI  = []\n",
    "for j in range (2):\n",
    "    for i in range(n):\n",
    "        x = randomlife(a,b)\n",
    "        y = f(x)\n",
    "        Σf += y\n",
    "        Σf2 += y*y \n",
    "    V = b-a\n",
    "    μf = Σf/n\n",
    "    σf2 =(n/(n-1))*((Σf2/n) - μf*μf)\n",
    "    σf  = σf2**0.5\n",
    "    I2  += [V*μf]  # I kapelaki I^\n",
    "    δI += [(V*σf)/n**0.5]\n",
    "    a=b\n",
    "    b+=5\n",
    "    \n",
    "I=[abs(I2[0]-I2[1])]\n",
    "I=np.array(I)\n",
    "δI_total=((δI[0]*δI[0])+(δI[1]*δI[1]))**0.5\n",
    "print('I_total= %3.2lf +- %3.2lf '%(I,δI_total))"
   ]
  },
  {
   "cell_type": "code",
   "execution_count": null,
   "metadata": {},
   "outputs": [],
   "source": []
  },
  {
   "cell_type": "code",
   "execution_count": null,
   "metadata": {},
   "outputs": [],
   "source": []
  },
  {
   "cell_type": "code",
   "execution_count": null,
   "metadata": {},
   "outputs": [],
   "source": []
  }
 ],
 "metadata": {
  "kernelspec": {
   "display_name": "Python 3",
   "language": "python",
   "name": "python3"
  },
  "language_info": {
   "codemirror_mode": {
    "name": "ipython",
    "version": 3
   },
   "file_extension": ".py",
   "mimetype": "text/x-python",
   "name": "python",
   "nbconvert_exporter": "python",
   "pygments_lexer": "ipython3",
   "version": "3.8.3"
  }
 },
 "nbformat": 4,
 "nbformat_minor": 4
}
