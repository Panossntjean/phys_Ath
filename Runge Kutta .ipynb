{
 "cells": [
  {
   "cell_type": "code",
   "execution_count": 1,
   "id": "weird-teens",
   "metadata": {},
   "outputs": [],
   "source": [
    "import numpy as np\n",
    "import matplotlib.pyplot as plt\n",
    "import math"
   ]
  },
  {
   "cell_type": "code",
   "execution_count": 2,
   "id": "italic-journalist",
   "metadata": {},
   "outputs": [],
   "source": [
    "def f(t,x) : return 6-x**2 #i have to put my funtion here !!! (the fixed one) as of euler's method"
   ]
  },
  {
   "cell_type": "markdown",
   "id": "committed-rainbow",
   "metadata": {},
   "source": [
    "'''2nd ORDER'''"
   ]
  },
  {
   "cell_type": "code",
   "execution_count": 3,
   "id": "amended-standing",
   "metadata": {},
   "outputs": [
    {
     "name": "stdout",
     "output_type": "stream",
     "text": [
      "1.5504595624519628\n"
     ]
    }
   ],
   "source": [
    "y = 1\n",
    "h = 0.5 # define the step \n",
    "a,b = 0,5\n",
    "N   = int((b-a)/h) # define the runs  \n",
    "for i in range(N):\n",
    "    y = y + h*f(a+h/2,y+(h/2)*f(a,y))\n",
    "    a = a + h \n",
    "print(y)"
   ]
  },
  {
   "cell_type": "markdown",
   "id": "quarterly-arbitration",
   "metadata": {},
   "source": [
    "''' 4th ORDER '''"
   ]
  },
  {
   "cell_type": "code",
   "execution_count": 45,
   "id": "pressing-norwegian",
   "metadata": {},
   "outputs": [
    {
     "name": "stdout",
     "output_type": "stream",
     "text": [
      "12.181688513428197\n"
     ]
    }
   ],
   "source": [
    "y   = 1\n",
    "h   = 0.5 # define the step \n",
    "a,b = 0,5\n",
    "N   = int((b-a)/h) # define the runs \n",
    "for i in range(N):\n",
    "    k1 = h*f(a,y)\n",
    "    k2 = h*f(a+h/2,y+k1/2)\n",
    "    k3 = h*f(a+h/2,y+k2/2)\n",
    "    k4 = h*f(a+h,y+k3)\n",
    "    y = y + (k1+2*k2+2*k3+k4)/6\n",
    "    a = a + h # a is the t or our time or our length that we advance with the step h\n",
    "print(y)"
   ]
  }
 ],
 "metadata": {
  "kernelspec": {
   "display_name": "Python 3",
   "language": "python",
   "name": "python3"
  },
  "language_info": {
   "codemirror_mode": {
    "name": "ipython",
    "version": 3
   },
   "file_extension": ".py",
   "mimetype": "text/x-python",
   "name": "python",
   "nbconvert_exporter": "python",
   "pygments_lexer": "ipython3",
   "version": "3.9.1"
  }
 },
 "nbformat": 4,
 "nbformat_minor": 5
}
